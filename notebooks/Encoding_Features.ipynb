{
 "cells": [
  {
   "cell_type": "markdown",
   "id": "aba15351",
   "metadata": {},
   "source": [
    "# **Categorical Encoding Notebook**\n",
    "\n",
    "This notebook handles:\n",
    "\n",
    "\n",
    " 1. Encoding categorical features\n",
    " 2. Save the encoded data"
   ]
  },
  {
   "cell_type": "markdown",
   "id": "8c604568-358d-4bff-bae3-2c678a6b67dc",
   "metadata": {},
   "source": [
    "# Load the data"
   ]
  },
  {
   "cell_type": "code",
   "execution_count": 3,
   "id": "dec41c08",
   "metadata": {},
   "outputs": [],
   "source": [
    "import pandas as pd\n",
    "from sklearn.preprocessing import LabelEncoder"
   ]
  },
  {
   "cell_type": "code",
   "execution_count": 4,
   "id": "ce2b1934",
   "metadata": {},
   "outputs": [],
   "source": [
    "X_train = pd.read_csv(\"../data/splitted_data/X_train.csv\")\n",
    "X_test = pd.read_csv(\"../data/splitted_data/X_test.csv\")\n",
    "y_train = pd.read_csv(\"../data/splitted_data/y_train.csv\")\n",
    "y_test = pd.read_csv(\"../data/splitted_data/y_test.csv\")"
   ]
  },
  {
   "cell_type": "markdown",
   "id": "0977627b-5533-4aec-b235-813f8609b91f",
   "metadata": {},
   "source": [
    "# Encode Features"
   ]
  },
  {
   "cell_type": "code",
   "execution_count": 6,
   "id": "86341cbf",
   "metadata": {},
   "outputs": [],
   "source": [
    "yes_no_cols = ['Hospitalized', 'ICU_Admission', 'Ventilator_Support', 'Recovered']\n",
    "for col in yes_no_cols:\n",
    "    X_train[col] = X_train[col].map({'Yes': 1, 'No': 0})\n",
    "    X_test[col] = X_test[col].map({'Yes': 1, 'No': 0})"
   ]
  },
  {
   "cell_type": "code",
   "execution_count": 7,
   "id": "f7f5510d",
   "metadata": {},
   "outputs": [],
   "source": [
    "y_train = y_train['Reinfection'].map({'Yes': 1, 'No': 0})\n",
    "y_test = y_test['Reinfection'].map({'Yes': 1, 'No': 0})"
   ]
  },
  {
   "cell_type": "code",
   "execution_count": 8,
   "id": "168b4a4d",
   "metadata": {},
   "outputs": [],
   "source": [
    "label_encode_cols = ['Gender', 'Region', 'Preexisting_Condition', 'COVID_Strain', 'Symptoms',\n",
    "                     'Severity', 'Vaccination_Status', 'Occupation', 'Smoking_Status',\n",
    "                     'Recovery_Classification']"
   ]
  },
  {
   "cell_type": "code",
   "execution_count": 9,
   "id": "36e6d859",
   "metadata": {},
   "outputs": [],
   "source": [
    "le = LabelEncoder()\n",
    "for col in label_encode_cols:\n",
    "    X_train[col] = le.fit_transform(X_train[col])\n",
    "    X_test[col] = le.transform(X_test[col])"
   ]
  },
  {
   "cell_type": "markdown",
   "id": "5e31cfc1-817f-4d17-ba32-3292c93076ab",
   "metadata": {},
   "source": [
    "# Save the Data"
   ]
  },
  {
   "cell_type": "code",
   "execution_count": 11,
   "id": "0724327e",
   "metadata": {},
   "outputs": [],
   "source": [
    "X_train.to_csv(\"../data/splitted_data_encoded/X_train.csv\", index=False)\n",
    "X_test.to_csv(\"../data/splitted_data_encoded/X_test.csv\", index=False)\n",
    "y_train.to_csv(\"../data/splitted_data_encoded/y_train.csv\", index=False)\n",
    "y_test.to_csv(\"../data/splitted_data_encoded/y_test.csv\", index=False)"
   ]
  },
  {
   "cell_type": "code",
   "execution_count": null,
   "id": "033fdcf1",
   "metadata": {},
   "outputs": [],
   "source": []
  }
 ],
 "metadata": {
  "kernelspec": {
   "display_name": "Python 3 (ipykernel)",
   "language": "python",
   "name": "python3"
  },
  "language_info": {
   "codemirror_mode": {
    "name": "ipython",
    "version": 3
   },
   "file_extension": ".py",
   "mimetype": "text/x-python",
   "name": "python",
   "nbconvert_exporter": "python",
   "pygments_lexer": "ipython3",
   "version": "3.11.7"
  }
 },
 "nbformat": 4,
 "nbformat_minor": 5
}
